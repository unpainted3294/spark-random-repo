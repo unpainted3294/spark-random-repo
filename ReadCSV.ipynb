{
 "cells": [
  {
   "cell_type": "code",
   "execution_count": 1,
   "id": "173db67a-529f-46c2-9d64-dd2cd732b484",
   "metadata": {},
   "outputs": [],
   "source": [
    "from pyspark.context import SparkContext\n",
    "from pyspark.sql.session import SparkSession\n",
    "sc = SparkContext('local')\n",
    "spark = SparkSession(sc)"
   ]
  },
  {
   "cell_type": "code",
   "execution_count": 8,
   "id": "4da29c84-ee6a-411f-b560-69c2aa275f13",
   "metadata": {},
   "outputs": [
    {
     "name": "stdout",
     "output_type": "stream",
     "text": [
      "+---+----------+---------+---+-------+\n",
      "| id|first_name|last_name|age|country|\n",
      "+---+----------+---------+---+-------+\n",
      "|  1|     Darcy| Phillips| 24|     YE|\n",
      "|  2|    Amelia|   Wright| 66|     CN|\n",
      "|  3|     Haris|    Ellis| 61|     CR|\n",
      "|  4|      Tony|     Hall| 51|     JO|\n",
      "|  5|     Rubie|  Stewart| 27|     RO|\n",
      "|  6|     Miley|    Perry| 27|     ZA|\n",
      "|  7|    Marcus|   Carter| 66|     CN|\n",
      "|  8|   Charlie|   Harris| 22|     SR|\n",
      "|  9|     Honey|   Rogers| 60|     IL|\n",
      "| 10|      Luke|   Harris| 66|     IR|\n",
      "| 11|     Spike|   Murphy| 57|     IN|\n",
      "| 12|   Vincent|    Adams| 51|     CN|\n",
      "| 13|     James|   Barnes| 56|     HK|\n",
      "| 14|    George|   Bailey| 18|     AT|\n",
      "| 15|    Sienna|   Holmes| 48|     ZW|\n",
      "| 16|  Isabella|  Elliott| 47|     CO|\n",
      "| 17|   Freddie|   Martin| 47|     SC|\n",
      "| 18|      Kate|   Wright| 51|     BE|\n",
      "| 19|    Albert|    Myers| 24|     BM|\n",
      "| 20|    Connie|    Wells| 64|     SC|\n",
      "+---+----------+---------+---+-------+\n",
      "only showing top 20 rows\n",
      "\n"
     ]
    }
   ],
   "source": [
    "df_accounts = spark.read \\\n",
    "    .format(\"csv\") \\\n",
    "    .option(\"header\",\"true\") \\\n",
    "    .option(\"inferSchema\",\"true\") \\\n",
    "    .load('./data/accounts.csv')\n",
    "\n",
    "df_accounts.show()"
   ]
  },
  {
   "cell_type": "code",
   "execution_count": 10,
   "id": "ff04b8a4-adb2-4d3c-9bc3-212e5f51c93f",
   "metadata": {},
   "outputs": [
    {
     "data": {
      "text/plain": [
       "500000"
      ]
     },
     "execution_count": 10,
     "metadata": {},
     "output_type": "execute_result"
    }
   ],
   "source": [
    "df_accounts.count()"
   ]
  },
  {
   "cell_type": "code",
   "execution_count": 11,
   "id": "b01769f5-5eb4-44fa-b865-45577ce04650",
   "metadata": {},
   "outputs": [
    {
     "name": "stdout",
     "output_type": "stream",
     "text": [
      "+-----------------+------------+\n",
      "|country_full_name|abbreviation|\n",
      "+-----------------+------------+\n",
      "|        Argentina|          AR|\n",
      "|        Australia|          AU|\n",
      "|          Austria|          AT|\n",
      "|          Bahamas|          BS|\n",
      "|          Bahrain|          BH|\n",
      "|       Bangladesh|          BD|\n",
      "|         Barbados|          BB|\n",
      "|          Belgium|          BE|\n",
      "|           Belize|          BZ|\n",
      "|            Benin|          BJ|\n",
      "|          Bermuda|          BM|\n",
      "|          Bolivia|          BO|\n",
      "|           Brazil|          BR|\n",
      "|         Bulgaria|          BG|\n",
      "|     Burkina Faso|          BF|\n",
      "|            Chile|          CL|\n",
      "|            China|          CN|\n",
      "|         Colombia|          CO|\n",
      "|       Costa Rica|          CR|\n",
      "|   Côte D' Ivoire|          CI|\n",
      "+-----------------+------------+\n",
      "only showing top 20 rows\n",
      "\n"
     ]
    }
   ],
   "source": [
    "df_country_abbreviation = spark.read.format(\"csv\") \\\n",
    "    .option(\"header\",\"true\") \\\n",
    "    .option(\"inferSchema\",\"true\") \\\n",
    "    .option(\"delimiter\",\";\") \\\n",
    "    .load('./data/country_abbreviation-original.csv')\n",
    "\n",
    "df_country_abbreviation.show()"
   ]
  },
  {
   "cell_type": "code",
   "execution_count": 12,
   "id": "f7f2ad3e-4154-4ba8-900b-278145d55069",
   "metadata": {},
   "outputs": [
    {
     "data": {
      "text/plain": [
       "121"
      ]
     },
     "execution_count": 12,
     "metadata": {},
     "output_type": "execute_result"
    }
   ],
   "source": [
    "df_country_abbreviation.count()"
   ]
  },
  {
   "cell_type": "code",
   "execution_count": 13,
   "id": "8ddd14ea-90a3-468d-9f8c-71145a87416b",
   "metadata": {},
   "outputs": [
    {
     "name": "stdout",
     "output_type": "stream",
     "text": [
      "+------+-------+------------+----------------+-------+\n",
      "|    id| amount|account_type|transaction_date|country|\n",
      "+------+-------+------------+----------------+-------+\n",
      "|179528|-730.86|    Business|      2013-07-10|     SV|\n",
      "|378343|-946.98|    Personal|      2018-04-06|     YE|\n",
      "| 75450|7816.92|Professional|      2016-11-20|     SI|\n",
      "|357719| 704.02|    Business|      2016-11-06|     ID|\n",
      "|110511| 3462.6|    Personal|      2018-01-18|     BS|\n",
      "|461830| 762.81|Professional|      2017-06-20|     CN|\n",
      "| 30180|5390.24|Professional|      2021-05-26|     GN|\n",
      "| 65398|4765.77|    Personal|      2018-05-01|     TR|\n",
      "|170899|8775.89|    Business|      2013-10-16|     SK|\n",
      "|234300|8455.18|Professional|      2015-10-06|     LU|\n",
      "|208027| 6244.1|    Business|      2020-03-06|     AE|\n",
      "|161212|5904.56|    Personal|      2016-09-07|     EG|\n",
      "|105372|4079.76|Professional|      2015-02-12|     MT|\n",
      "|205321| 3570.4|Professional|      2012-07-02|     MU|\n",
      "|410863|2328.83|    Business|      2012-12-20|     SR|\n",
      "|486752| 5454.8|Professional|      2015-02-10|     CU|\n",
      "|208564|8695.17|    Personal|      2013-01-03|     IT|\n",
      "|196682|-905.87|    Personal|      2019-01-28|     HU|\n",
      "|491196|8781.02|Professional|      2017-05-11|     IR|\n",
      "|108286|3485.95|    Personal|      2011-12-13|     ZW|\n",
      "+------+-------+------------+----------------+-------+\n",
      "only showing top 20 rows\n",
      "\n"
     ]
    }
   ],
   "source": [
    "df_transactions = spark.read \\\n",
    "    .format(\"csv\") \\\n",
    "    .option(\"header\",\"true\") \\\n",
    "    .option(\"inferSchema\",\"true\").option(\"delimiter\",\";\") \\\n",
    "    .load('./data/transactions-original.csv')\n",
    "\n",
    "df_transactions.show()"
   ]
  },
  {
   "cell_type": "code",
   "execution_count": 14,
   "id": "4f80bfbf-4900-475f-8226-b72bb23dd3fd",
   "metadata": {},
   "outputs": [
    {
     "data": {
      "text/plain": [
       "5000000"
      ]
     },
     "execution_count": 14,
     "metadata": {},
     "output_type": "execute_result"
    }
   ],
   "source": [
    "df_transactions.count()"
   ]
  },
  {
   "cell_type": "code",
   "execution_count": null,
   "id": "970df180-3c99-4a38-bf8b-9f8247450194",
   "metadata": {},
   "outputs": [],
   "source": []
  }
 ],
 "metadata": {
  "kernelspec": {
   "display_name": "Python 3 (ipykernel)",
   "language": "python",
   "name": "python3"
  },
  "language_info": {
   "codemirror_mode": {
    "name": "ipython",
    "version": 3
   },
   "file_extension": ".py",
   "mimetype": "text/x-python",
   "name": "python",
   "nbconvert_exporter": "python",
   "pygments_lexer": "ipython3",
   "version": "3.11.4"
  }
 },
 "nbformat": 4,
 "nbformat_minor": 5
}
