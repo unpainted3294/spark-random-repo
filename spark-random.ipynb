{
 "cells": [
  {
   "cell_type": "code",
   "execution_count": 1,
   "id": "6c52b1f2-b647-4aaa-a5f8-b988b8bd9f02",
   "metadata": {},
   "outputs": [
    {
     "data": {
      "text/plain": [
       "[532, 779, 880, 374, 151]"
      ]
     },
     "execution_count": 1,
     "metadata": {},
     "output_type": "execute_result"
    }
   ],
   "source": [
    "import pyspark  \n",
    "sc = pyspark.SparkContext('local[*]')\n",
    "# do something to prove it works\n",
    "rdd = sc.parallelize(range(1000))\n",
    "rdd.takeSample(False, 5)"
   ]
  },
  {
   "cell_type": "code",
   "execution_count": null,
   "id": "bb4faab9-5632-4bcd-9025-3e6936fa2f91",
   "metadata": {},
   "outputs": [],
   "source": [
    "# 4. Download the data needed to perform these tasks to the working folder. There are three files with .csv extension:\n",
    "\n",
    "# account.csv. \n",
    "## \"id\", \"first_name\", \"last_name\", \"age\",\"country\"\n",
    "# transactions.csv. \n",
    "## \"account_id\", \"amount\", \"account_type\", \"transaction_date\".\n",
    "\n",
    "# A transaction with a negative amount means funds withdrawal from the account, while a\n",
    "# transaction with a positive amount is account replenishment.\n",
    "    \n",
    "# country_abbreviation.csv. a list of countries’ full names and abbreviations.\n",
    "\n",
    "\n",
    "TODO \n",
    "- read data from file \n",
    "- count dataframe \n"
   ]
  }
 ],
 "metadata": {
  "kernelspec": {
   "display_name": "Python 3 (ipykernel)",
   "language": "python",
   "name": "python3"
  },
  "language_info": {
   "codemirror_mode": {
    "name": "ipython",
    "version": 3
   },
   "file_extension": ".py",
   "mimetype": "text/x-python",
   "name": "python",
   "nbconvert_exporter": "python",
   "pygments_lexer": "ipython3",
   "version": "3.11.4"
  }
 },
 "nbformat": 4,
 "nbformat_minor": 5
}
