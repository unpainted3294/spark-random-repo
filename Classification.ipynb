{
 "cells": [
  {
   "cell_type": "code",
   "execution_count": 1,
   "id": "19ff6171-43df-4ef8-a60c-b09a7c308ade",
   "metadata": {},
   "outputs": [],
   "source": [
    "from pyspark.context import SparkContext\n",
    "from pyspark.sql.session import SparkSession\n",
    "sc = SparkContext('local')\n",
    "spark = SparkSession(sc)"
   ]
  },
  {
   "cell_type": "code",
   "execution_count": 2,
   "id": "7378c9c2-af8b-4efa-acfa-ea3c98b1f2bd",
   "metadata": {},
   "outputs": [
    {
     "name": "stdout",
     "output_type": "stream",
     "text": [
      "+------+-------+------------+----------------+-------+\n",
      "|    id| amount|account_type|transaction_date|country|\n",
      "+------+-------+------------+----------------+-------+\n",
      "|179528|-730.86|    Business|      2013-07-10|     SV|\n",
      "|378343|-946.98|    Personal|      2018-04-06|     YE|\n",
      "| 75450|7816.92|Professional|      2016-11-20|     SI|\n",
      "|357719| 704.02|    Business|      2016-11-06|     ID|\n",
      "|110511| 3462.6|    Personal|      2018-01-18|     BS|\n",
      "+------+-------+------------+----------------+-------+\n",
      "\n"
     ]
    }
   ],
   "source": [
    "df_transactions = spark.read \\\n",
    "    .format(\"csv\") \\\n",
    "    .option(\"header\",\"true\") \\\n",
    "    .option(\"inferSchema\",\"true\").option(\"delimiter\",\";\") \\\n",
    "    .load('./data/transactions-original.csv')\n",
    "\n",
    "df_transactions.limit(5).show()"
   ]
  },
  {
   "cell_type": "code",
   "execution_count": 23,
   "id": "6f4b6165-4a55-416d-bebe-a52e026bd82c",
   "metadata": {},
   "outputs": [
    {
     "name": "stdout",
     "output_type": "stream",
     "text": [
      "[4500.12, 7247.27]\n",
      "4500.12 7247.27\n"
     ]
    }
   ],
   "source": [
    "quantiles = df_transactions.approxQuantile(\"amount\", [0.5, 0.75], 0)\n",
    "\n",
    "print(quantiles)\n",
    "\n",
    "val_75_perc = quantiles[1]\n",
    "val_50_perc = quantiles[0]\n",
    "\n",
    "print(val_50_perc, val_75_perc)"
   ]
  },
  {
   "cell_type": "code",
   "execution_count": 24,
   "id": "f07f349a-5dd3-4992-bf07-b2d6a454bfcc",
   "metadata": {},
   "outputs": [
    {
     "name": "stdout",
     "output_type": "stream",
     "text": [
      "+------+-------+------------+----------------+-------+-------+\n",
      "|    id| amount|account_type|transaction_date|country|  level|\n",
      "+------+-------+------------+----------------+-------+-------+\n",
      "|179528|-730.86|    Business|      2013-07-10|     SV|    low|\n",
      "|378343|-946.98|    Personal|      2018-04-06|     YE|    low|\n",
      "| 75450|7816.92|Professional|      2016-11-20|     SI|   high|\n",
      "|357719| 704.02|    Business|      2016-11-06|     ID|    low|\n",
      "|110511| 3462.6|    Personal|      2018-01-18|     BS|    low|\n",
      "|461830| 762.81|Professional|      2017-06-20|     CN|    low|\n",
      "| 30180|5390.24|Professional|      2021-05-26|     GN|average|\n",
      "| 65398|4765.77|    Personal|      2018-05-01|     TR|average|\n",
      "|170899|8775.89|    Business|      2013-10-16|     SK|   high|\n",
      "|234300|8455.18|Professional|      2015-10-06|     LU|   high|\n",
      "|208027| 6244.1|    Business|      2020-03-06|     AE|average|\n",
      "|161212|5904.56|    Personal|      2016-09-07|     EG|average|\n",
      "|105372|4079.76|Professional|      2015-02-12|     MT|    low|\n",
      "|205321| 3570.4|Professional|      2012-07-02|     MU|    low|\n",
      "|410863|2328.83|    Business|      2012-12-20|     SR|    low|\n",
      "|486752| 5454.8|Professional|      2015-02-10|     CU|average|\n",
      "|208564|8695.17|    Personal|      2013-01-03|     IT|   high|\n",
      "|196682|-905.87|    Personal|      2019-01-28|     HU|    low|\n",
      "|491196|8781.02|Professional|      2017-05-11|     IR|   high|\n",
      "|108286|3485.95|    Personal|      2011-12-13|     ZW|    low|\n",
      "+------+-------+------------+----------------+-------+-------+\n",
      "only showing top 20 rows\n",
      "\n"
     ]
    }
   ],
   "source": [
    "from pyspark.sql.functions import when\n",
    "\n",
    "df_transactions \\\n",
    "    .select('id', 'amount', 'account_type', 'transaction_date', 'country') \\\n",
    "    .withColumn(\"level\", when(df_transactions.amount < 4500.12, 'low') \\\n",
    "                        .when((df_transactions.amount >= 4500.12) & (df_transactions.amount < 7247.27), 'average') \\\n",
    "                        .otherwise('high')) \\\n",
    "    .show()"
   ]
  },
  {
   "cell_type": "code",
   "execution_count": 27,
   "id": "5e95acd1-10f8-46df-8c27-3724ce36e671",
   "metadata": {},
   "outputs": [],
   "source": [
    "def calculate_quantiles(df_transactions):\n",
    "    from pyspark.sql.functions import when\n",
    "    \n",
    "    quantiles = df_transactions.approxQuantile(\"amount\", [0.5, 0.75], 0) \n",
    "    \n",
    "    val_75_perc = quantiles[1]\n",
    "    val_50_perc = quantiles[0] \n",
    "\n",
    "    return df_transactions \\\n",
    "        .select('id', 'amount', 'account_type', 'transaction_date', 'country') \\\n",
    "        .withColumn(\"level\", when(df_transactions.amount < val_50_perc, 'low') \\\n",
    "                        .when((df_transactions.amount >= val_50_perc) & (df_transactions.amount < val_75_perc), 'average') \\\n",
    "                        .otherwise('high'))\n"
   ]
  },
  {
   "cell_type": "code",
   "execution_count": 28,
   "id": "915210f2-b444-40e4-a629-4806e9456078",
   "metadata": {},
   "outputs": [
    {
     "name": "stdout",
     "output_type": "stream",
     "text": [
      "+------+-------+------------+----------------+-------+-------+\n",
      "|    id| amount|account_type|transaction_date|country|  level|\n",
      "+------+-------+------------+----------------+-------+-------+\n",
      "|179528|-730.86|    Business|      2013-07-10|     SV|    low|\n",
      "|378343|-946.98|    Personal|      2018-04-06|     YE|    low|\n",
      "| 75450|7816.92|Professional|      2016-11-20|     SI|   high|\n",
      "|357719| 704.02|    Business|      2016-11-06|     ID|    low|\n",
      "|110511| 3462.6|    Personal|      2018-01-18|     BS|    low|\n",
      "|461830| 762.81|Professional|      2017-06-20|     CN|    low|\n",
      "| 30180|5390.24|Professional|      2021-05-26|     GN|average|\n",
      "| 65398|4765.77|    Personal|      2018-05-01|     TR|average|\n",
      "|170899|8775.89|    Business|      2013-10-16|     SK|   high|\n",
      "|234300|8455.18|Professional|      2015-10-06|     LU|   high|\n",
      "|208027| 6244.1|    Business|      2020-03-06|     AE|average|\n",
      "|161212|5904.56|    Personal|      2016-09-07|     EG|average|\n",
      "|105372|4079.76|Professional|      2015-02-12|     MT|    low|\n",
      "|205321| 3570.4|Professional|      2012-07-02|     MU|    low|\n",
      "|410863|2328.83|    Business|      2012-12-20|     SR|    low|\n",
      "|486752| 5454.8|Professional|      2015-02-10|     CU|average|\n",
      "|208564|8695.17|    Personal|      2013-01-03|     IT|   high|\n",
      "|196682|-905.87|    Personal|      2019-01-28|     HU|    low|\n",
      "|491196|8781.02|Professional|      2017-05-11|     IR|   high|\n",
      "|108286|3485.95|    Personal|      2011-12-13|     ZW|    low|\n",
      "+------+-------+------------+----------------+-------+-------+\n",
      "only showing top 20 rows\n",
      "\n"
     ]
    }
   ],
   "source": [
    "a = calculate_quantiles(df_transactions)\n",
    "\n",
    "a.show()"
   ]
  },
  {
   "cell_type": "code",
   "execution_count": null,
   "id": "a087c5fd-9441-4cd3-8b48-67ca10fc3b80",
   "metadata": {},
   "outputs": [],
   "source": []
  }
 ],
 "metadata": {
  "kernelspec": {
   "display_name": "Python 3 (ipykernel)",
   "language": "python",
   "name": "python3"
  },
  "language_info": {
   "codemirror_mode": {
    "name": "ipython",
    "version": 3
   },
   "file_extension": ".py",
   "mimetype": "text/x-python",
   "name": "python",
   "nbconvert_exporter": "python",
   "pygments_lexer": "ipython3",
   "version": "3.11.4"
  }
 },
 "nbformat": 4,
 "nbformat_minor": 5
}
