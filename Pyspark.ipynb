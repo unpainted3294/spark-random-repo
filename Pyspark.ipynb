{
 "cells": [
  {
   "cell_type": "code",
   "execution_count": 1,
   "id": "df3395e1-dd89-49e7-86b9-acd76b29591c",
   "metadata": {},
   "outputs": [],
   "source": [
    "from pyspark.context import SparkContext\n",
    "from pyspark.sql.session import SparkSession\n",
    "sc = SparkContext('local')\n",
    "spark = SparkSession(sc)"
   ]
  },
  {
   "cell_type": "code",
   "execution_count": 62,
   "id": "2c268f08-5d2d-466a-953f-738813ba07cd",
   "metadata": {},
   "outputs": [
    {
     "name": "stdout",
     "output_type": "stream",
     "text": [
      "+---+----------+---------+---+-------+\n",
      "| id|first_name|last_name|age|country|\n",
      "+---+----------+---------+---+-------+\n",
      "|  1|     Darcy| Phillips| 24|     YE|\n",
      "|  2|    Amelia|   Wright| 66|     CN|\n",
      "|  3|     Haris|    Ellis| 61|     CR|\n",
      "|  4|      Tony|     Hall| 51|     JO|\n",
      "|  5|     Rubie|  Stewart| 27|     RO|\n",
      "+---+----------+---------+---+-------+\n",
      "\n"
     ]
    }
   ],
   "source": [
    "df_accounts = spark.read \\\n",
    "    .format(\"csv\") \\\n",
    "    .option(\"header\",\"true\") \\\n",
    "    .option(\"inferSchema\",\"true\") \\\n",
    "    .option(\"delimiter\",\";\") \\\n",
    "    .load('./data/accounts-original.csv')\n",
    "\n",
    "df_accounts.limit(5).show()"
   ]
  },
  {
   "cell_type": "code",
   "execution_count": 14,
   "id": "cc87f533-6599-428d-85dd-07fff6e276f8",
   "metadata": {
    "collapsed": true,
    "jupyter": {
     "outputs_hidden": true,
     "source_hidden": true
    }
   },
   "outputs": [
    {
     "name": "stdout",
     "output_type": "stream",
     "text": [
      "+-----------------+------------+\n",
      "|country_full_name|abbreviation|\n",
      "+-----------------+------------+\n",
      "|      Switzerland|          CH|\n",
      "+-----------------+------------+\n",
      "\n"
     ]
    }
   ],
   "source": [
    "df_country_abbreviation = spark.read.format(\"csv\") \\\n",
    "    .option(\"header\",\"true\") \\\n",
    "    .option(\"inferSchema\",\"true\") \\\n",
    "    .option(\"delimiter\",\";\") \\\n",
    "    .load('./data/country_abbreviation-original.csv')\n",
    "\n",
    "df_ch = df_country_abbreviation.filter(\"country_full_name == 'Switzerland'\") \n",
    "\n",
    "df_ch.show()"
   ]
  },
  {
   "cell_type": "code",
   "execution_count": 61,
   "id": "5a424882-a489-440d-8f50-3db62ee452df",
   "metadata": {},
   "outputs": [
    {
     "name": "stdout",
     "output_type": "stream",
     "text": [
      "+------+-------+------------+----------------+-------+\n",
      "|    id| amount|account_type|transaction_date|country|\n",
      "+------+-------+------------+----------------+-------+\n",
      "|179528|-730.86|    Business|      2013-07-10|     SV|\n",
      "|378343|-946.98|    Personal|      2018-04-06|     YE|\n",
      "| 75450|7816.92|Professional|      2016-11-20|     SI|\n",
      "|357719| 704.02|    Business|      2016-11-06|     ID|\n",
      "|110511| 3462.6|    Personal|      2018-01-18|     BS|\n",
      "+------+-------+------------+----------------+-------+\n",
      "\n"
     ]
    }
   ],
   "source": [
    "df_transactions = spark.read \\\n",
    "    .format(\"csv\") \\\n",
    "    .option(\"header\",\"true\") \\\n",
    "    .option(\"inferSchema\",\"true\").option(\"delimiter\",\";\") \\\n",
    "    .load('./data/transactions-original.csv')\n",
    "\n",
    "df_transactions.limit(5).show()"
   ]
  },
  {
   "cell_type": "code",
   "execution_count": 60,
   "id": "26663984-07b4-47f8-a6bc-cc8e3a304888",
   "metadata": {
    "scrolled": true
   },
   "outputs": [
    {
     "name": "stdout",
     "output_type": "stream",
     "text": [
      "+---+-------+------------+----------------+-------+\n",
      "| id| amount|account_type|transaction_date|country|\n",
      "+---+-------+------------+----------------+-------+\n",
      "|  8|3481.48|Professional|      2015-09-29|     CH|\n",
      "| 19|5630.04|Professional|      2017-01-04|     CH|\n",
      "| 20|-432.68|Professional|      2020-03-16|     CH|\n",
      "| 48|7814.77|Professional|      2020-09-09|     CH|\n",
      "| 51|8011.46|    Business|      2020-12-21|     CH|\n",
      "+---+-------+------------+----------------+-------+\n",
      "\n"
     ]
    }
   ],
   "source": [
    "df_transactions_ch = df_transactions.sort('id').where('country == \"CH\"').limit(5)\n",
    "df_transactions_ch.show()"
   ]
  },
  {
   "cell_type": "code",
   "execution_count": 107,
   "id": "46f287d8-4f7d-48e3-a223-1e60d194c40a",
   "metadata": {
    "scrolled": true
   },
   "outputs": [
    {
     "name": "stdout",
     "output_type": "stream",
     "text": [
      "+---+----------+---------+\n",
      "| id|first_name|last_name|\n",
      "+---+----------+---------+\n",
      "| 23| Frederick| Morrison|\n",
      "|108|Maximilian|  Chapman|\n",
      "|158|     Spike|   Taylor|\n",
      "|398|   Chester|Henderson|\n",
      "|443|      Myra|  Perkins|\n",
      "+---+----------+---------+\n",
      "\n"
     ]
    }
   ],
   "source": [
    "from_ch = df_accounts.select('id','first_name','last_name').where('country == \"CH\"')\n",
    "\n",
    "from_ch.limit(5).show()"
   ]
  },
  {
   "cell_type": "code",
   "execution_count": 54,
   "id": "59572ffc-3c8d-44f7-9dcd-229ee82968fc",
   "metadata": {
    "scrolled": true
   },
   "outputs": [
    {
     "name": "stdout",
     "output_type": "stream",
     "text": [
      "+---+----------------+------------+\n",
      "| id|transaction_date|total_amount|\n",
      "+---+----------------+------------+\n",
      "|  1|      2021-04-20|        3.29|\n",
      "|  1|      2020-10-14|      3131.4|\n",
      "|  1|      2018-03-18|     9153.86|\n",
      "|  1|      2019-05-08|     8268.84|\n",
      "|  1|      2017-06-07|     7571.59|\n",
      "|  1|      2020-12-24|     5118.27|\n",
      "|  1|      2021-08-19|     7831.55|\n",
      "|  1|      2011-04-08|     9970.67|\n",
      "|  1|      2012-06-01|     1280.65|\n",
      "|  2|      2012-04-06|      6546.8|\n",
      "|  2|      2013-07-25|      1427.1|\n",
      "|  2|      2012-03-03|     8353.12|\n",
      "|  2|      2016-09-19|     2138.24|\n",
      "|  2|      2021-01-27|      6270.4|\n",
      "|  2|      2012-01-30|     7228.96|\n",
      "|  2|      2019-11-16|      9985.4|\n",
      "|  2|      2012-03-04|     8009.27|\n",
      "|  2|      2021-02-25|     4904.86|\n",
      "|  2|      2016-08-19|     4419.15|\n",
      "|  3|      2017-04-19|     4110.29|\n",
      "+---+----------------+------------+\n",
      "only showing top 20 rows\n",
      "\n"
     ]
    }
   ],
   "source": [
    "from pyspark.sql.functions import sum\n",
    "\n",
    "df_balance = df_transactions \\\n",
    "    .groupBy('id', 'transaction_date') \\\n",
    "    .agg(\n",
    "        sum('amount') \\\n",
    "            .alias('total_amount')) \\\n",
    "    .where(sum('amount') > 0) \\\n",
    "    .sort(df_transactions.id)\n",
    "\n",
    "df_balance.show()"
   ]
  },
  {
   "cell_type": "code",
   "execution_count": 104,
   "id": "7492ea01-692c-448d-86f4-daf6ee45145a",
   "metadata": {},
   "outputs": [
    {
     "name": "stdout",
     "output_type": "stream",
     "text": [
      "+---+-------+------------+----------------+-------+\n",
      "| id| amount|account_type|transaction_date|country|\n",
      "+---+-------+------------+----------------+-------+\n",
      "|  8|3481.48|Professional|      2015-09-29|     CH|\n",
      "| 19|5630.04|Professional|      2017-01-04|     CH|\n",
      "| 20|-432.68|Professional|      2020-03-16|     CH|\n",
      "| 48|7814.77|Professional|      2020-09-09|     CH|\n",
      "| 51|8011.46|    Business|      2020-12-21|     CH|\n",
      "| 63|-774.16|    Business|      2019-09-11|     CH|\n",
      "| 66|6961.53|    Business|      2021-07-18|     CH|\n",
      "| 76|  204.7|    Business|      2020-03-20|     CH|\n",
      "| 76|8116.98|Professional|      2019-08-12|     CH|\n",
      "| 77| 1298.8|    Personal|      2020-08-05|     CH|\n",
      "| 80|1074.49|    Personal|      2011-09-29|     CH|\n",
      "| 86|  673.9|    Business|      2013-11-12|     CH|\n",
      "| 98|9278.56|Professional|      2012-07-20|     CH|\n",
      "|101|-882.35|Professional|      2012-09-19|     CH|\n",
      "|104| 705.88|    Personal|      2021-07-29|     CH|\n",
      "|121|1230.22|    Personal|      2020-06-11|     CH|\n",
      "|132|4971.14|    Business|      2012-03-07|     CH|\n",
      "|136|8145.67|Professional|      2015-07-24|     CH|\n",
      "|145|1801.25|    Business|      2019-01-11|     CH|\n",
      "|160|5702.53|    Business|      2021-07-28|     CH|\n",
      "+---+-------+------------+----------------+-------+\n",
      "only showing top 20 rows\n",
      "\n"
     ]
    }
   ],
   "source": [
    "df_transactions.where(\"country == 'CH'\").sort('id').show()"
   ]
  },
  {
   "cell_type": "code",
   "execution_count": 108,
   "id": "8eec7604-3083-4099-8045-3055912dd638",
   "metadata": {
    "scrolled": true
   },
   "outputs": [
    {
     "name": "stdout",
     "output_type": "stream",
     "text": [
      "+---+----------+---------+----------------+------------+\n",
      "| id|first_name|last_name|transaction_date|total_amount|\n",
      "+---+----------+---------+----------------+------------+\n",
      "| 23| Frederick| Morrison|      2016-06-25|     1582.28|\n",
      "| 23| Frederick| Morrison|      2021-06-16|       512.3|\n",
      "| 23| Frederick| Morrison|      2020-09-04|     9360.72|\n",
      "| 23| Frederick| Morrison|      2016-05-14|     5574.68|\n",
      "| 23| Frederick| Morrison|      2012-10-24|     8707.01|\n",
      "| 23| Frederick| Morrison|      2021-01-11|     9686.86|\n",
      "| 23| Frederick| Morrison|      2019-05-10|     7892.81|\n",
      "|108|Maximilian|  Chapman|      2016-10-17|     2502.55|\n",
      "|108|Maximilian|  Chapman|      2020-02-16|     9933.39|\n",
      "|108|Maximilian|  Chapman|      2016-05-18|     6182.78|\n",
      "|108|Maximilian|  Chapman|      2012-04-13|     3725.31|\n",
      "|108|Maximilian|  Chapman|      2016-03-31|     8899.88|\n",
      "|108|Maximilian|  Chapman|      2019-06-12|     6172.79|\n",
      "|108|Maximilian|  Chapman|      2016-07-05|     7405.78|\n",
      "|108|Maximilian|  Chapman|      2013-10-12|     2047.12|\n",
      "|108|Maximilian|  Chapman|      2016-05-11|     7547.69|\n",
      "|158|     Spike|   Taylor|      2012-01-24|     2861.93|\n",
      "|158|     Spike|   Taylor|      2018-01-12|     2239.38|\n",
      "|158|     Spike|   Taylor|      2015-05-25|     6607.87|\n",
      "|158|     Spike|   Taylor|      2017-10-11|     8842.82|\n",
      "+---+----------+---------+----------------+------------+\n",
      "only showing top 20 rows\n",
      "\n"
     ]
    }
   ],
   "source": [
    "from_ch \\\n",
    "    .join(df_balance, df_balance.id == from_ch.id, 'inner') \\\n",
    "    .select(from_ch.id, from_ch.first_name, from_ch.last_name, df_balance.transaction_date, df_balance.total_amount) \\\n",
    "    .sort(from_ch.id) \\\n",
    "    .show()"
   ]
  },
  {
   "cell_type": "code",
   "execution_count": 109,
   "id": "ecfef9bd-f035-42be-91ba-9d4ae98b8a38",
   "metadata": {},
   "outputs": [
    {
     "name": "stdout",
     "output_type": "stream",
     "text": [
      "+---+----------+---------+----------------+------------+\n",
      "| id|first_name|last_name|transaction_date|total_amount|\n",
      "+---+----------+---------+----------------+------------+\n",
      "| 23| Frederick| Morrison|      2016-06-25|     1582.28|\n",
      "| 23| Frederick| Morrison|      2021-06-16|       512.3|\n",
      "| 23| Frederick| Morrison|      2020-09-04|     9360.72|\n",
      "| 23| Frederick| Morrison|      2016-05-14|     5574.68|\n",
      "| 23| Frederick| Morrison|      2012-10-24|     8707.01|\n",
      "| 23| Frederick| Morrison|      2021-01-11|     9686.86|\n",
      "| 23| Frederick| Morrison|      2019-05-10|     7892.81|\n",
      "|108|Maximilian|  Chapman|      2016-10-17|     2502.55|\n",
      "|108|Maximilian|  Chapman|      2020-02-16|     9933.39|\n",
      "|108|Maximilian|  Chapman|      2016-05-18|     6182.78|\n",
      "|108|Maximilian|  Chapman|      2012-04-13|     3725.31|\n",
      "|108|Maximilian|  Chapman|      2016-03-31|     8899.88|\n",
      "|108|Maximilian|  Chapman|      2019-06-12|     6172.79|\n",
      "|108|Maximilian|  Chapman|      2016-07-05|     7405.78|\n",
      "|108|Maximilian|  Chapman|      2013-10-12|     2047.12|\n",
      "|108|Maximilian|  Chapman|      2016-05-11|     7547.69|\n",
      "|158|     Spike|   Taylor|      2012-01-24|     2861.93|\n",
      "|158|     Spike|   Taylor|      2018-01-12|     2239.38|\n",
      "|158|     Spike|   Taylor|      2015-05-25|     6607.87|\n",
      "|158|     Spike|   Taylor|      2017-10-11|     8842.82|\n",
      "+---+----------+---------+----------------+------------+\n",
      "only showing top 20 rows\n",
      "\n"
     ]
    }
   ],
   "source": [
    "names_ch_total = from_ch \\\n",
    "    .join(df_balance, df_balance.id == from_ch.id, 'inner') \\\n",
    "    .select(from_ch.id, from_ch.first_name, from_ch.last_name, df_balance.transaction_date, df_balance.total_amount) \\\n",
    "    .sort(from_ch.id)\n",
    "\n",
    "names_ch_total.show()"
   ]
  },
  {
   "cell_type": "code",
   "execution_count": 80,
   "id": "6bec7199-342a-4f3f-82ac-813249e1ec2e",
   "metadata": {},
   "outputs": [
    {
     "name": "stdout",
     "output_type": "stream",
     "text": [
      "+---+----------+---------+----+-----------------+\n",
      "| id|first_name|last_name|year|sum(total_amount)|\n",
      "+---+----------+---------+----+-----------------+\n",
      "| 23| Frederick| Morrison|2012|          8707.01|\n",
      "| 23| Frederick| Morrison|2016|          7156.96|\n",
      "| 23| Frederick| Morrison|2019|          7892.81|\n",
      "| 23| Frederick| Morrison|2020|          9360.72|\n",
      "| 23| Frederick| Morrison|2021|         10199.16|\n",
      "|108|Maximilian|  Chapman|2012|          3725.31|\n",
      "|108|Maximilian|  Chapman|2013|          2047.12|\n",
      "|108|Maximilian|  Chapman|2016|         32538.68|\n",
      "|108|Maximilian|  Chapman|2019|          6172.79|\n",
      "|108|Maximilian|  Chapman|2020|          9933.39|\n",
      "+---+----------+---------+----+-----------------+\n",
      "\n"
     ]
    }
   ],
   "source": [
    "names_ch_total \\\n",
    "    .groupBy('id','first_name', 'last_name', names_ch_total.transaction_date[0:4].alias('year') ) \\\n",
    "    .agg({\"total_amount\": \"sum\"}) \\\n",
    "        .alias('total_amount') \\\n",
    "    .sort('id', 'year') \\\n",
    "    .show()"
   ]
  },
  {
   "cell_type": "code",
   "execution_count": 101,
   "id": "9e398b8d-73ab-489e-a390-9813733da440",
   "metadata": {},
   "outputs": [
    {
     "name": "stdout",
     "output_type": "stream",
     "text": [
      "+--------------------------------+\n",
      "|First Name Last Name Year Total |\n",
      "+--------------------------------+\n",
      "|Frederick Morrison 2012 8707.01 |\n",
      "|Frederick Morrison 2016 7156.96 |\n",
      "|Frederick Morrison 2019 7892.81 |\n",
      "|Frederick Morrison 2020 9360.72 |\n",
      "|Frederick Morrison 2021 10199.16|\n",
      "+--------------------------------+\n",
      "only showing top 5 rows\n",
      "\n"
     ]
    }
   ],
   "source": [
    "from pyspark.sql.functions import concat, col, lit\n",
    "\n",
    "formatting = names_ch_total \\\n",
    "    .groupBy('id','first_name', 'last_name', names_ch_total.transaction_date[0:4].alias('year') ) \\\n",
    "    .agg(\n",
    "        sum('total_amount') \\\n",
    "            .alias('total_amount')) \\\n",
    "    .sort('id', 'year')\n",
    "\n",
    "formatting \\\n",
    "    .select(concat(col(\"first_name\"), lit(\" \"), col(\"last_name\"), lit(' '), col('year'), lit(' '), col('total_amount')) \\\n",
    "            .alias('First Name Last Name Year Total')) \\\n",
    "    .show(n=5, truncate=False)"
   ]
  },
  {
   "cell_type": "code",
   "execution_count": null,
   "id": "f66e3c7c-d044-4d1d-99af-d0ba690cd097",
   "metadata": {},
   "outputs": [],
   "source": []
  }
 ],
 "metadata": {
  "kernelspec": {
   "display_name": "Python 3 (ipykernel)",
   "language": "python",
   "name": "python3"
  },
  "language_info": {
   "codemirror_mode": {
    "name": "ipython",
    "version": 3
   },
   "file_extension": ".py",
   "mimetype": "text/x-python",
   "name": "python",
   "nbconvert_exporter": "python",
   "pygments_lexer": "ipython3",
   "version": "3.11.4"
  }
 },
 "nbformat": 4,
 "nbformat_minor": 5
}
